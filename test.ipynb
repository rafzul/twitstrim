{
 "cells": [
  {
   "cell_type": "code",
   "execution_count": 147,
   "metadata": {},
   "outputs": [],
   "source": [
    "import tweepy\n",
    "from keys import *\n",
    "import json\n",
    "import requests"
   ]
  },
  {
   "cell_type": "code",
   "execution_count": 148,
   "metadata": {},
   "outputs": [],
   "source": [
    "client = tweepy.Client(consumer_key=consumer_key, consumer_secret=consumer_secret, access_token=access_token, access_token_secret=access_token_secret, return_type=requests.Response)\n"
   ]
  },
  {
   "cell_type": "code",
   "execution_count": 149,
   "metadata": {},
   "outputs": [],
   "source": [
    "expansions_items={\"attachments.media_keys,geo.place_id\"}\n",
    "tweet_fields_items={\"id,author_id,created_at,attachments,referenced_tweets,public_metrics\"}\n",
    "media_fields_items={\"url,type\"  }\n",
    "place_fields_item={\"country\"}"
   ]
  },
  {
   "cell_type": "code",
   "execution_count": 150,
   "metadata": {},
   "outputs": [
    {
     "name": "stdout",
     "output_type": "stream",
     "text": [
      "{'data': [{'created_at': '2022-06-07T16:27:33.000Z', 'referenced_tweets': [{'type': 'retweeted', 'id': '1534209785121632256'}], 'text': 'RT @DiniHrdianti: Pak @ganjarpranowo berhasil melobi Pak LBP utk menunda kenaikan tarif naik stupa Borobudur.\\nSemoga kenaikan ini nanti bis…', 'author_id': '1289451649614807041', 'public_metrics': {'retweet_count': 4, 'reply_count': 0, 'like_count': 0, 'quote_count': 0}, 'id': '1534210465613881344'}, {'created_at': '2022-06-07T16:27:32.000Z', 'referenced_tweets': [{'type': 'retweeted', 'id': '1534209785121632256'}], 'text': 'RT @DiniHrdianti: Pak @ganjarpranowo berhasil melobi Pak LBP utk menunda kenaikan tarif naik stupa Borobudur.\\nSemoga kenaikan ini nanti bis…', 'author_id': '880019254027866113', 'public_metrics': {'retweet_count': 4, 'reply_count': 0, 'like_count': 0, 'quote_count': 0}, 'id': '1534210457787019264'}, {'created_at': '2022-06-07T16:27:31.000Z', 'referenced_tweets': [{'type': 'retweeted', 'id': '1533839581023719424'}], 'text': 'RT @hahahanipu: Dutch in Borobudur at 1925. https://t.co/npmsdki5lL', 'author_id': '733702808894083072', 'public_metrics': {'retweet_count': 7232, 'reply_count': 0, 'like_count': 0, 'quote_count': 0}, 'id': '1534210453701730304', 'attachments': {'media_keys': ['3_1533839578813333504']}}, {'created_at': '2022-06-07T16:27:28.000Z', 'text': '@MNW_MNW_MNW Betapa pemerintah memeras otak mencari sumber pendapatan negara, sampai seorang luhut mengurusi harga tiket masuk candi Borobudur. Kalau saya mending ke dufan atau ke universal studi sentosa island spore tiketnya hanya 610 rbu rupiah puas dgn berbagai wahana.', 'author_id': '1507302279032217602', 'public_metrics': {'retweet_count': 0, 'reply_count': 0, 'like_count': 0, 'quote_count': 0}, 'id': '1534210443744780288'}, {'created_at': '2022-06-07T16:27:24.000Z', 'text': 'Jangan Keliru, hrg Tiket Masuk Candi Borobudur Masih ma https://t.co/PVNI3xuI63', 'author_id': '1428414154302316550', 'public_metrics': {'retweet_count': 0, 'reply_count': 0, 'like_count': 0, 'quote_count': 0}, 'id': '1534210426510405633'}, {'created_at': '2022-06-07T16:27:18.000Z', 'referenced_tweets': [{'type': 'retweeted', 'id': '1533790982051069952'}], 'text': \"RT @motherlander: Dari 504 patung Buddha yang seharusnya ada di Borobudur, 43 'hilang tak tergantikan', lebih dari 300 lainnya rusak, 250 d…\", 'author_id': '218741921', 'public_metrics': {'retweet_count': 5296, 'reply_count': 0, 'like_count': 0, 'quote_count': 0}, 'id': '1534210399914295296'}, {'created_at': '2022-06-07T16:27:16.000Z', 'referenced_tweets': [{'type': 'replied_to', 'id': '1534210107286130688'}], 'text': '@MKrenthil @RiboetKenArok @QalbuBahasa @Entut33732167 Mbah km Tanya rumah dia tah, lah wong kita rumah e sekitar Borobudur juga hahha', 'author_id': '1282321029826637830', 'public_metrics': {'retweet_count': 0, 'reply_count': 0, 'like_count': 0, 'quote_count': 0}, 'id': '1534210393257947136'}, {'created_at': '2022-06-07T16:27:13.000Z', 'referenced_tweets': [{'type': 'retweeted', 'id': '1533839581023719424'}], 'text': 'RT @hahahanipu: Dutch in Borobudur at 1925. https://t.co/npmsdki5lL', 'author_id': '1379431964587945987', 'public_metrics': {'retweet_count': 7232, 'reply_count': 0, 'like_count': 0, 'quote_count': 0}, 'id': '1534210381693919233', 'attachments': {'media_keys': ['3_1533839578813333504']}}, {'created_at': '2022-06-07T16:27:13.000Z', 'referenced_tweets': [{'type': 'retweeted', 'id': '1533839581023719424'}], 'text': 'RT @hahahanipu: Dutch in Borobudur at 1925. https://t.co/npmsdki5lL', 'author_id': '1166359383971893248', 'public_metrics': {'retweet_count': 7232, 'reply_count': 0, 'like_count': 0, 'quote_count': 0}, 'id': '1534210381664624645', 'attachments': {'media_keys': ['3_1533839578813333504']}}, {'created_at': '2022-06-07T16:27:12.000Z', 'text': 'https://t.co/T0s4ryYcL8 Pengaruh Isu Harga Tiket Naik, Pengunjung Candi Borobudur Tetap Ramai', 'author_id': '1520305056863506432', 'public_metrics': {'retweet_count': 0, 'reply_count': 0, 'like_count': 0, 'quote_count': 0}, 'id': '1534210375981617152'}], 'includes': {'media': [{'media_key': '3_1533839578813333504', 'type': 'photo', 'url': 'https://pbs.twimg.com/media/FUlK-GWagAAfefz.jpg'}]}, 'meta': {'newest_id': '1534210465613881344', 'oldest_id': '1534210375981617152', 'result_count': 10, 'next_token': 'b26v89c19zqg8o3fpyzm911p0vo4oyku4y71pp0rhntkt'}}\n"
     ]
    }
   ],
   "source": [
    "public_query = client.search_recent_tweets(query=\"borobudur\", expansions=expansions_items, tweet_fields=tweet_fields_items, media_fields=media_fields_items, place_fields=place_fields_item,max_results=10,user_auth=True,)\n",
    "print(public_query.json())"
   ]
  },
  {
   "cell_type": "code",
   "execution_count": 151,
   "metadata": {},
   "outputs": [],
   "source": [
    "# public_tweets = client.get_home_timeline(expansions=expansions_items, tweet_fields=tweet_fields_items, media_fields_items=media_fields_items)\n",
    "# # author_id, expansions=expansions_items, tweet_fields=tweet_fields_items, \n",
    "# # for tweet in public_tweets.data:\n",
    "# #     twetjson = json.loads(tweet)\n",
    "# #     print(twetjson)\\\n",
    "# print(public_tweets.json())\n",
    "\n",
    "# # twetjson = json.loads(json.dumps(public_tweets, indent=2))\n",
    "# # print(twetjson)\n"
   ]
  },
  {
   "cell_type": "code",
   "execution_count": null,
   "metadata": {},
   "outputs": [],
   "source": []
  }
 ],
 "metadata": {
  "interpreter": {
   "hash": "8480cc895fd06e75775b8d15e9a8d5c5bfef6d9dfeccd8378a745e9e71f79b3c"
  },
  "kernelspec": {
   "display_name": "Python 3.10.4 ('venv': venv)",
   "language": "python",
   "name": "python3"
  },
  "language_info": {
   "codemirror_mode": {
    "name": "ipython",
    "version": 3
   },
   "file_extension": ".py",
   "mimetype": "text/x-python",
   "name": "python",
   "nbconvert_exporter": "python",
   "pygments_lexer": "ipython3",
   "version": "3.10.4"
  },
  "orig_nbformat": 4
 },
 "nbformat": 4,
 "nbformat_minor": 2
}
